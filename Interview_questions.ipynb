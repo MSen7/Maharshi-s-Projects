{
 "cells": [
  {
   "cell_type": "code",
   "execution_count": 3,
   "metadata": {},
   "outputs": [
    {
     "data": {
      "text/plain": [
       "'2023 Day 1:Part 1: The newly-improved calibration document consists of lines of text; each line originally contained a specific calibration value that the Elves now need to recover. \\nOn each line, the calibration value can be found by combining the first digit and the last digit (in that order) to form a single two-digit number.\\n \\nFor example:\\n\\n1abc2\\npqr3stu8vwx\\na1b2c3d4e5f\\ntreb7uchet\\nIn this example, the calibration values of these four lines are 12, 38, 15, and 77. Adding these together produces 142.\\n\\nConsider your entire calibration document. What is the sum of all of the calibration values?'"
      ]
     },
     "execution_count": 3,
     "metadata": {},
     "output_type": "execute_result"
    }
   ],
   "source": [
    "\"\"\"2023 Day 1:Part 1: The newly-improved calibration document consists of lines of text; each line originally contained a specific calibration value that the Elves now need to recover. \n",
    "On each line, the calibration value can be found by combining the first digit and the last digit (in that order) to form a single two-digit number.\n",
    " \n",
    "For example:\n",
    "\n",
    "1abc2\n",
    "pqr3stu8vwx\n",
    "a1b2c3d4e5f\n",
    "treb7uchet\n",
    "In this example, the calibration values of these four lines are 12, 38, 15, and 77. Adding these together produces 142.\n",
    "\n",
    "Consider your entire calibration document. What is the sum of all of the calibration values?\"\"\""
   ]
  },
  {
   "cell_type": "code",
   "execution_count": 4,
   "metadata": {},
   "outputs": [
    {
     "name": "stdout",
     "output_type": "stream",
     "text": [
      "52974\n"
     ]
    }
   ],
   "source": [
    "import re\n",
    "with open(r\"C:/Users/mahar/Downloads/calibration_value.txt\",\"r\") as file: #read the lines\n",
    "   lines = file.readlines()\n",
    "all_numbers = []\n",
    "def function_sum(LINES):\n",
    "    for line in LINES:\n",
    "        line = line.strip()\n",
    "        number_list = re.findall(r'[0-9]', line) #find all digits\n",
    "        number = int(number_list[0] + number_list[-1])\n",
    "        all_numbers.append(number)\n",
    "    return all_numbers\n",
    "print(sum(function_sum(lines)))\n",
    "\n",
    "\n",
    "   "
   ]
  },
  {
   "cell_type": "markdown",
   "metadata": {},
   "source": [
    "###2023 Day 1 Part 2 :Your calculation isn't quite right. It looks like some of the digits are actually spelled out with letters: one, two, three, four, five, six, seven, eight, and nine also count as valid \"digits\".\n",
    "\n",
    "Equipped with this new information, you now need to find the real first and last digit on each line. For example:\n",
    "\n",
    "two1nine\n",
    "eightwothree\n",
    "abcone2threexyz\n",
    "xtwone3four\n",
    "4nineeightseven2\n",
    "zoneight234\n",
    "7pqrstsixteen\n",
    "In this example, the calibration values are 29, 83, 13, 24, 42, 14, and 76. Adding these together produces 281.\n",
    "\n",
    "What is the sum of all of the calibration values?"
   ]
  },
  {
   "cell_type": "code",
   "execution_count": 5,
   "metadata": {},
   "outputs": [
    {
     "name": "stdout",
     "output_type": "stream",
     "text": [
      "53340\n"
     ]
    }
   ],
   "source": [
    "## dictionary mapping text representations of numbers to integers\n",
    "\n",
    "number_words = {'one': 1, 'two': 2, 'three': 3, 'four': 4, 'five': 5, 'six': 6, 'seven': 7, 'eight': 8, 'nine': 9, 'zero': 0,'orez':0,'enin':9,'thgie':8,'neves':7,'xis':6, 'evif':5,'ruof':4,'eerht':3,'owt':2,'eno':1}\n",
    "\n",
    "\"\"\"This function first makes a search pattern such as 'one|two|three.....eno|owt...123' and makes 2 searches of the text. The first search, which parses the text in order from the beginning, returns the first digit of the number. \n",
    "The second search parses the text in reverse order, and returns the second digit of the number.\"\"\"\n",
    "def find_numbers_in_text(text):\n",
    "    # Create a non-greedy pattern that matches any of the number words or numeric digits\n",
    "    pattern = '|'.join([key for key in number_words.keys()] + [str(i) for i in range(10)])  + '+?' \n",
    "    matches_from_beginning = re.findall(pattern,text)[0]\n",
    "    matches_from_end = re.findall(pattern, text[::-1])[0]\n",
    "\n",
    "\n",
    "    \n",
    "    # Use the pattern to find matches in the text\n",
    "    return([matches_from_beginning , matches_from_end])\n",
    "def process_text(input_file):\n",
    "  final_numbers = []\n",
    "    \n",
    "  with open(input_file,\"r\") as file:\n",
    "    lines = file.readlines()\n",
    "    for line in lines:\n",
    "      final_numbers.append(find_numbers_in_text(line))\n",
    "\n",
    "  refined_numbers = final_numbers.copy()\n",
    "\n",
    "  for i,number in enumerate(final_numbers):\n",
    "      for j,digit in  enumerate(number):\n",
    "       if digit.isdigit() == False: # Mapping numbers in text format to integer using the number_words dictionary\n",
    "          refined_numbers[i][j] = str(number_words[digit])\n",
    "\n",
    "  refined_number = [int(\"\".join(number)) for number in refined_numbers] #joined the two digits of the number for each line and converted them to integer.\n",
    "  print(sum(refined_number))\n",
    "    \n",
    "process_text(r\"C:/Users/mahar/Downloads/calibration_value.txt\")\n",
    "   \n",
    "      \n",
    "       \n",
    "         \n",
    "\n",
    "\n"
   ]
  },
  {
   "cell_type": "markdown",
   "metadata": {},
   "source": [
    "2022 Day 1 Part 1 :For example, suppose the Elves finish writing their items' Calories and end up with the following list:\n",
    "\n",
    "1000\n",
    "2000\n",
    "3000\n",
    "\n",
    "4000\n",
    "\n",
    "5000\n",
    "6000\n",
    "\n",
    "7000\n",
    "8000\n",
    "9000\n",
    "\n",
    "10000\n",
    "This list represents the Calories of the food carried by five Elves:\n",
    "\n",
    "The first Elf is carrying food with 1000, 2000, and 3000 Calories, a total of 6000 Calories.\n",
    "The second Elf is carrying one food item with 4000 Calories.\n",
    "The third Elf is carrying food with 5000 and 6000 Calories, a total of 11000 Calories.\n",
    "The fourth Elf is carrying food with 7000, 8000, and 9000 Calories, a total of 24000 Calories.\n",
    "The fifth Elf is carrying one food item with 10000 Calories.\n",
    "In case the Elves get hungry and need extra snacks, they need to know which Elf to ask: they'd like to know how many Calories are being carried by the Elf carrying the most Calories. In the example above, this is 24000 (carried by the fourth Elf).\n",
    "\n",
    "Find the Elf carrying the most Calories. How many total Calories is that Elf carrying?\n",
    "\n",
    "2022 Day 1 Part 2: By the time you calculate the answer to the Elves' question, they've already realized that the Elf carrying the most Calories of food might eventually run out of snacks.\n",
    "\n",
    "To avoid this unacceptable situation, the Elves would instead like to know the total Calories carried by the top three Elves carrying the most Calories. That way, even if one of those Elves runs out of snacks, they still have two backups.\n",
    "\n",
    "In the example above, the top three Elves are the fourth Elf (with 24000 Calories), then the third Elf (with 11000 Calories), then the fifth Elf (with 10000 Calories). The sum of the Calories carried by these three elves is 45000.\n",
    "\n",
    "Find the top three Elves carrying the most Calories. How many Calories are those Elves carrying in total?"
   ]
  },
  {
   "cell_type": "code",
   "execution_count": 8,
   "metadata": {},
   "outputs": [
    {
     "name": "stdout",
     "output_type": "stream",
     "text": [
      "70116\n",
      "206582\n"
     ]
    }
   ],
   "source": [
    "with open(r\"C:/Users/mahar/Downloads/calories.txt\",\"r\") as file:\n",
    "   lines = file.read()\n",
    "   list_of_lines = lines.split(\"\\n\\n\")  # getting thr required numbers in string format for each elf by splitting the lines list, ex: [['2\\n3\\n4\\n....'].....]\n",
    "for i,calories in enumerate(list_of_lines):\n",
    "   list_of_lines[i] = calories.split(\"\\n\") # separating the numbers in each list to give us the calories for each elf. ex - [['100','200']....]\n",
    "s = [sum(int(j) for j  in x ) for x in list_of_lines] # summing up total calories for each elf\n",
    "s.sort(reverse = True) # sorting the list in descending order to get th ehighest and sum of top 3 total calories, for part 1 and part 2, respectively\n",
    "print(s[0])\n",
    "print(sum(s[:3]))\n",
    "   \n",
    "    "
   ]
  },
  {
   "cell_type": "markdown",
   "metadata": {},
   "source": [
    "2022 Day 2 Part 1: Rock Paper Scissors is a game between two players. Each game contains many rounds; in each round, the players each simultaneously choose one of Rock, Paper, or Scissors using a hand shape. Then, a winner for that round is selected: Rock defeats Scissors, Scissors defeats Paper, and Paper defeats Rock. If both players choose the same shape, the round instead ends in a draw.\n",
    "\n",
    "Appreciative of your help yesterday, one Elf gives you an encrypted strategy guide (your puzzle input) that they say will be sure to help you win. \"The first column is what your opponent is going to play: A for Rock, B for Paper, and C for Scissors. The second column--\" Suddenly, the Elf is called away to help with someone's tent.\n",
    "\n",
    "The second column, you reason, must be what you should play in response: X for Rock, Y for Paper, and Z for Scissors. Winning every time would be suspicious, so the responses must have been carefully chosen.\n",
    "\n",
    "The winner of the whole tournament is the player with the highest score. Your total score is the sum of your scores for each round. The score for a single round is the score for the shape you selected (1 for Rock, 2 for Paper, and 3 for Scissors) plus the score for the outcome of the round (0 if you lost, 3 if the round was a draw, and 6 if you won).\n",
    "\n",
    "Since you can't be sure if the Elf is trying to help you or trick you, you should calculate the score you would get if you were to follow the strategy guide.\n",
    "\n",
    "For example, suppose you were given the following strategy guide:\n",
    "\n",
    "A Y\n",
    "B X\n",
    "C Z\n",
    "This strategy guide predicts and recommends the following:\n",
    "\n",
    "In the first round, your opponent will choose Rock (A), and you should choose Paper (Y). This ends in a win for you with a score of 8 (2 because you chose Paper + 6 because you won).\n",
    "In the second round, your opponent will choose Paper (B), and you should choose Rock (X). This ends in a loss for you with a score of 1 (1 + 0).\n",
    "The third round is a draw with both players choosing Scissors, giving you a score of 3 + 3 = 6.\n",
    "In this example, if you were to follow the strategy guide, you would get a total score of 15 (8 + 1 + 6).\n",
    "\n",
    "What would your total score be if everything goes exactly according to your strategy guide? "
   ]
  },
  {
   "cell_type": "code",
   "execution_count": 11,
   "metadata": {},
   "outputs": [
    {
     "name": "stdout",
     "output_type": "stream",
     "text": [
      "11841\n"
     ]
    }
   ],
   "source": [
    "'''Firstly, I calculated all the possible moves ,i.e., AX, AY,AZ,BX,BY,BZ,CX,CY,CZ, and calculated the points for each case, and put them in a dictionary'''\n",
    "list_of_moves = {'AX':4,'AY':8,'AZ':3,'BX':1,'BY':5,'BZ':9,'CX':7,'CY':2,'CZ':6}\n",
    "with open(r\"C:/Users/mahar/Downloads/rps.txt\",\"r\") as file:\n",
    "   lines = file.read()\n",
    "   value_set = lines.split(\"\\n\")\n",
    "   for i,word in enumerate(value_set):\n",
    "      value_set[i] = word.replace(\" \",\"\") #replaced the space in between the alphabets of a single line with no space, so as to match against the dictionary keys\n",
    "      value_set[i] = list_of_moves[value_set[i]] #replaced the keys with the values corresponding to the keys\n",
    "print(sum(value_set))\n",
    "\n",
    "   \n",
    "   "
   ]
  },
  {
   "cell_type": "markdown",
   "metadata": {},
   "source": [
    "2022 Day 2 Part 2: The Elf finishes helping with the tent and sneaks back over to you. \"Anyway, the second column says how the round needs to end: X means you need to lose, Y means you need to end the round in a draw, and Z means you need to win. Good luck!\"\n",
    "\n",
    "The total score is still calculated in the same way, but now you need to figure out what shape to choose so the round ends as indicated. The example above now goes like this:\n",
    "\n",
    "In the first round, your opponent will choose Rock (A), and you need the round to end in a draw (Y), so you also choose Rock. This gives you a score of 1 + 3 = 4.\n",
    "In the second round, your opponent will choose Paper (B), and you choose Rock so you lose (X) with a score of 1 + 0 = 1.\n",
    "In the third round, you will defeat your opponent's Scissors with Rock for a score of 1 + 6 = 7.\n",
    "Now that you're correctly decrypting the ultra top secret strategy guide, you would get a total score of 12.\n",
    "\n",
    "Following the Elf's instructions for the second column, what would your total score be if everything goes exactly according to your strategy guide?"
   ]
  },
  {
   "cell_type": "code",
   "execution_count": 12,
   "metadata": {},
   "outputs": [
    {
     "name": "stdout",
     "output_type": "stream",
     "text": [
      "13022\n"
     ]
    }
   ],
   "source": [
    "\"\"\"\"Again I calculated all the possible moves according to the new strategy,i.e., AX, AY,AZ,BX,BY,BZ,CX,CY,CZ, and calculated the points for each case, and put them in a dictionary\"\"\"\n",
    "list_of_moves = {'AX':3,'AY':4,'AZ':8,'BX':1,'BY':5,'BZ':9,'CX':2,'CY':6,'CZ':7}\n",
    "with open(r\"C:/Users/mahar/Downloads/rps.txt\",\"r\") as file:\n",
    "   lines = file.read()\n",
    "   value_set = lines.split(\"\\n\")\n",
    "   for i,word in enumerate(value_set):\n",
    "      value_set[i] = word.replace(\" \",\"\")#replaced the space in between the alphabets of a single line with no space, so as to match against the dictionary keys\n",
    "      value_set[i] = list_of_moves[value_set[i]]#replaced the keys with the values corresponding to the keys\n",
    "print(sum(value_set))"
   ]
  },
  {
   "cell_type": "markdown",
   "metadata": {},
   "source": [
    "2022 Day 3 Part 1:\n",
    "\n",
    "One Elf has the important job of loading all of the rucksacks with supplies for the jungle journey. Unfortunately, that Elf didn't quite follow the packing instructions, and so a few items now need to be rearranged.\n",
    "\n",
    "Each rucksack has two large compartments. All items of a given type are meant to go into exactly one of the two compartments. The Elf that did the packing failed to follow this rule for exactly one item type per rucksack.\n",
    "\n",
    "The Elves have made a list of all of the items currently in each rucksack (your puzzle input), but they need your help finding the errors. Every item type is identified by a single lowercase or uppercase letter (that is, a and A refer to different types of items).\n",
    "\n",
    "The list of items for each rucksack is given as characters all on a single line. A given rucksack always has the same number of items in each of its two compartments, so the first half of the characters represent items in the first compartment, while the second half of the characters represent items in the second compartment.\n",
    "\n",
    "For example, suppose you have the following list of contents from six rucksacks:\n",
    "\n",
    "vJrwpWtwJgWrhcsFMMfFFhFp\n",
    "jqHRNqRjqzjGDLGLrsFMfFZSrLrFZsSL\n",
    "PmmdzqPrVvPwwTWBwg\n",
    "wMqvLMZHhHMvwLHjbvcjnnSBnvTQFn\n",
    "ttgJtRGJQctTZtZT\n",
    "CrZsJsPPZsGzwwsLwLmpwMDw\n",
    "The first rucksack contains the items vJrwpWtwJgWrhcsFMMfFFhFp, which means its first compartment contains the items vJrwpWtwJgWr, while the second compartment contains the items hcsFMMfFFhFp. The only item type that appears in both compartments is lowercase p.\n",
    "The second rucksack's compartments contain jqHRNqRjqzjGDLGL and rsFMfFZSrLrFZsSL. The only item type that appears in both compartments is uppercase L.\n",
    "The third rucksack's compartments contain PmmdzqPrV and vPwwTWBwg; the only common item type is uppercase P.\n",
    "The fourth rucksack's compartments only share item type v.\n",
    "The fifth rucksack's compartments only share item type t.\n",
    "The sixth rucksack's compartments only share item type s.\n",
    "To help prioritize item rearrangement, every item type can be converted to a priority:\n",
    "\n",
    "Lowercase item types a through z have priorities 1 through 26.\n",
    "Uppercase item types A through Z have priorities 27 through 52.\n",
    "In the above example, the priority of the item type that appears in both compartments of each rucksack is 16 (p), 38 (L), 42 (P), 22 (v), 20 (t), and 19 (s); the sum of these is 157.\n",
    "\n",
    "Find the item type that appears in both compartments of each rucksack. What is the sum of the priorities of those item types?"
   ]
  },
  {
   "cell_type": "code",
   "execution_count": 17,
   "metadata": {},
   "outputs": [
    {
     "name": "stdout",
     "output_type": "stream",
     "text": [
      "8139\n"
     ]
    }
   ],
   "source": [
    "\"\"\"Define the value chart dictionary as per alphabet and the given scheme for value of each alphabet.\"\"\"\n",
    "\n",
    "value_chart = {'A':27,'B':28,'C':29,'D':30,'E':31,'F':32,'G':33,'H':34,'I':35,'J':36,'K':37,'L':38,'M':39,'N':40,'O':41,'P':42,'Q':43,'R':44,'S':45,'T':46,'U':47,'V':48,'W':49,'X':50,'Y':51,'Z':52,\n",
    "               'a':1,'b':2,'c':3,'d':4,'e':5,'f':6,'g':7,'h':8,'i':9,'j':10,'k':11,'l':12,'m':13,'n':14,'o':15,'p':16,'q':17,'r':18,'s':19,'t':20,'u':21,'v':22,'w':23,'x':24,'y':25,'z':26}\n",
    "def open_file(text):\n",
    "   '''Get first half of each line in the text as one list, and the second half of all lines in another'''\n",
    "   list_First_Half = []\n",
    "   list_Second_Half = []\n",
    "   with open(text,\"r\") as file:\n",
    "      lines = file.readlines()\n",
    "   for line in lines:\n",
    "      line = line.strip()\n",
    "      list_First_Half.append(line[:int(len(line)/2)])\n",
    "      list_Second_Half.append(line[int(len(line)/2):])\n",
    "   return list_First_Half,list_Second_Half\n",
    "\n",
    "def extract_Set_Of_Intersections(list_First_Half,list_Second_Half):\n",
    "   '''Convert each half into a set of alphabets. so, in the output we get 2 lists of sets'''\n",
    "   new_list_First_Half = []\n",
    "   new_list_Second_Half = []\n",
    "   for item in list_First_Half:\n",
    "      temp = list(item)\n",
    "      set_first = set(temp)\n",
    "      new_list_First_Half.append(set_first)\n",
    "   for item in list_Second_Half:\n",
    "      temp = list(item)\n",
    "      set_second = set(temp)\n",
    "      new_list_Second_Half.append(set_second)\n",
    "   return new_list_First_Half,new_list_Second_Half\n",
    "\n",
    "def sum_Of_Intersections(new_list_First_Half,new_list_Second_Half):\n",
    "   '''find the common alphabet among the 2 halves using set intersection. then, look up the value of the matching alphabet in the value_chart dictionary'''\n",
    "   common_words = []\n",
    "   for item1, item2 in zip(new_list_First_Half, new_list_Second_Half):\n",
    "      common_words.append(item1.intersection(item2))\n",
    "\n",
    "   cw = []\n",
    "   for set_thing in common_words:\n",
    "      if len(set_thing)!=0:\n",
    "         for digit in set_thing:\n",
    "            cw.append(value_chart[digit])\n",
    "   print(sum(cw))\n",
    "LFH,LSH = open_file(r\"C:/Users/mahar/Downloads/codes.txt\")\n",
    "NLFH,NLSH = extract_Set_Of_Intersections(LFH,LSH)\n",
    "sum_Of_Intersections(NLFH,NLSH)\n",
    "\n",
    "\n",
    "\n",
    "\n",
    "\n",
    "\n",
    "\n",
    "    \n",
    "         \n",
    "      \n",
    "    \n",
    "\n",
    "\n",
    "\n"
   ]
  },
  {
   "cell_type": "markdown",
   "metadata": {},
   "source": [
    "### As you finish identifying the misplaced items, the Elves come to you with another issue.\n",
    "\n",
    "For safety, the Elves are divided into groups of three. Every Elf carries a badge that identifies their group. For efficiency, within each group of three Elves, the badge is the only item type carried by all three Elves. That is, if a group's badge is item type B, then all three Elves will have item type B somewhere in their rucksack, and at most two of the Elves will be carrying any other item type.\n",
    "\n",
    "The problem is that someone forgot to put this year's updated authenticity sticker on the badges. All of the badges need to be pulled out of the rucksacks so the new authenticity stickers can be attached.\n",
    "\n",
    "Additionally, nobody wrote down which item type corresponds to each group's badges. The only way to tell which item type is the right one is by finding the one item type that is common between all three Elves in each group.\n",
    "\n",
    "Every set of three lines in your list corresponds to a single group, but each group can have a different badge item type. So, in the above example, the first group's rucksacks are the first three lines:\n",
    "\n",
    "vJrwpWtwJgWrhcsFMMfFFhFp\n",
    "jqHRNqRjqzjGDLGLrsFMfFZSrLrFZsSL\n",
    "PmmdzqPrVvPwwTWBwg\n",
    "And the second group's rucksacks are the next three lines:\n",
    "\n",
    "wMqvLMZHhHMvwLHjbvcjnnSBnvTQFn\n",
    "ttgJtRGJQctTZtZT\n",
    "CrZsJsPPZsGzwwsLwLmpwMDw\n",
    "In the first group, the only item type that appears in all three rucksacks is lowercase r; this must be their badges. In the second group, their badge item type must be Z.\n",
    "\n",
    "Priorities for these items must still be found to organize the sticker attachment efforts: here, they are 18 (r) for the first group and 52 (Z) for the second group. The sum of these is 70.\n",
    "\n",
    "Find the item type that corresponds to the badges of each three-Elf group. What is the sum of the priorities of those item types?"
   ]
  },
  {
   "cell_type": "code",
   "execution_count": 22,
   "metadata": {},
   "outputs": [
    {
     "name": "stdout",
     "output_type": "stream",
     "text": [
      "2668\n"
     ]
    }
   ],
   "source": [
    "#create the vlaue chart according to the given rule\n",
    "value_chart = {'A':27,'B':28,'C':29,'D':30,'E':31,'F':32,'G':33,'H':34,'I':35,'J':36,'K':37,'L':38,'M':39,'N':40,'O':41,'P':42,'Q':43,'R':44,'S':45,'T':46,'U':47,'V':48,'W':49,'X':50,'Y':51,'Z':52,\n",
    "               'a':1,'b':2,'c':3,'d':4,'e':5,'f':6,'g':7,'h':8,'i':9,'j':10,'k':11,'l':12,'m':13,'n':14,'o':15,'p':16,'q':17,'r':18,'s':19,'t':20,'u':21,'v':22,'w':23,'x':24,'y':25,'z':26}\n",
    "def read(text):\n",
    "   '''Read the file by opening it. Then, put the set of alphabets in of each 3 consecutive lines in a lsit. So, as output, we get 3 lists containing sets of alphabets'''\n",
    "   list_elf_1 =[]\n",
    "   list_elf_2 = []\n",
    "   list_elf_3 = []\n",
    "   with open(text,\"r\") as file:\n",
    "      lines = file.readlines()\n",
    "   for i in range(0,len(lines),3):\n",
    "      temp_set = set(lines[i].strip())\n",
    "      list_elf_1.append(temp_set)\n",
    "      temp_set = set(lines[i+1].strip())\n",
    "      list_elf_2.append(temp_set)\n",
    "      temp_set = set(lines[i+2].strip())\n",
    "      list_elf_3.append(temp_set)\n",
    "   return list_elf_1,list_elf_2,list_elf_3\n",
    "def find_intersections(list_elf_1,list_elf_2,list_elf_3):\n",
    "   '''Find the intersection between the 3 elves' sets '''\n",
    "   final_intersection = []\n",
    "   for item1, item2,item3 in zip(list_elf_1, list_elf_2,list_elf_3):\n",
    "      result = item1 & item2 & item3\n",
    "      final_intersection.append(result)\n",
    "   return final_intersection\n",
    "   \n",
    "def find_value(final_intersection):\n",
    "   '''find the common alphabet among the 3 elves' sets for the entireity of the 3 lists, using set intersection. then, look up the value of the matching alphabet in the value_chart dictionary'''\n",
    "   cw = []\n",
    "   for set_thing in final_intersection:\n",
    "      if len(set_thing)!=0:\n",
    "         for digit in set_thing:\n",
    "            cw.append(value_chart[digit])\n",
    "   print(sum(cw))\n",
    " \n",
    "\n",
    "L1,L2,L3 = read(r\"C:/Users/mahar/Downloads/codes.txt\")\n",
    "FI = find_intersections(L1,L2,L3)\n",
    "FV = find_value(FI)\n",
    "\n",
    "\n",
    "   \n",
    "\n",
    "\n",
    "\n",
    "\n",
    "\n"
   ]
  },
  {
   "cell_type": "markdown",
   "metadata": {},
   "source": [
    "2022 Day 4 Part 1: Space needs to be cleared before the last supplies can be unloaded from the ships, and so several Elves have been assigned the job of cleaning up sections of the camp. Every section has a unique ID number, and each Elf is assigned a range of section IDs.\n",
    "\n",
    "However, as some of the Elves compare their section assignments with each other, they've noticed that many of the assignments overlap. To try to quickly find overlaps and reduce duplicated effort, the Elves pair up and make a big list of the section assignments for each pair (your puzzle input).\n",
    "\n",
    "For example, consider the following list of section assignment pairs:\n",
    "\n",
    "2-4,6-8\n",
    "2-3,4-5\n",
    "5-7,7-9\n",
    "2-8,3-7\n",
    "6-6,4-6\n",
    "2-6,4-8\n",
    "For the first few pairs, this list means:\n",
    "\n",
    "Within the first pair of Elves, the first Elf was assigned sections 2-4 (sections 2, 3, and 4), while the second Elf was assigned sections 6-8 (sections 6, 7, 8).\n",
    "The Elves in the second pair were each assigned two sections.\n",
    "The Elves in the third pair were each assigned three sections: one got sections 5, 6, and 7, while the other also got 7, plus 8 and 9.\n",
    "This example list uses single-digit section IDs to make it easier to draw; your actual list might contain larger numbers. Visually, these pairs of section assignments look like this:\n",
    "\n",
    ".234.....  2-4\n",
    ".....678.  6-8\n",
    "\n",
    ".23......  2-3\n",
    "...45....  4-5\n",
    "\n",
    "....567..  5-7\n",
    "......789  7-9\n",
    "\n",
    ".2345678.  2-8\n",
    "..34567..  3-7\n",
    "\n",
    ".....6...  6-6\n",
    "...456...  4-6\n",
    "\n",
    ".23456...  2-6\n",
    "...45678.  4-8\n",
    "Some of the pairs have noticed that one of their assignments fully contains the other. For example, 2-8 fully contains 3-7, and 6-6 is fully contained by 4-6. In pairs where one assignment fully contains the other, one Elf in the pair would be exclusively cleaning sections their partner will already be cleaning, so these seem like the most in need of reconsideration. In this example, there are 2 such pairs.\n",
    "\n",
    "In how many assignment pairs does one range fully contain the other?\n",
    "\n"
   ]
  },
  {
   "cell_type": "code",
   "execution_count": 21,
   "metadata": {},
   "outputs": [
    {
     "name": "stdout",
     "output_type": "stream",
     "text": [
      "453\n"
     ]
    }
   ],
   "source": [
    "def read_file(text): #read the file\n",
    "  with open(text,\"r\") as file:\n",
    "    lines = file.readlines()\n",
    "  return lines\n",
    "def number_of_subsets(LINES):\n",
    "  '''find out each of the 4 integers of the 4 lines. Then find the first set of numbers from integer 1 to integer 4(inclusive), and the second set of number from integer 3 to integer 4 (inclusive)'''\n",
    "  count = 0\n",
    "  for i,line in enumerate(LINES):\n",
    "   line = line.strip()\n",
    "   matches = [int(match) for match in re.findall('[0-9]+',line)]\n",
    "   set1 = set(range(matches[0],matches[1]+1))\n",
    "   set2 = set(range(matches[2],matches[3]+1))\n",
    "   #check if any of the sets is a subset of another\n",
    "   if set1.issubset(set2) or set2.issubset(set1) : \n",
    "    count+= 1\n",
    "  print(count)\n",
    "Lines = read_file( r\"C:/Users/mahar/Downloads/pairs.txt\" )\n",
    "number_of_subsets(Lines)\n",
    "\n",
    "\n",
    "    \n",
    "\n"
   ]
  },
  {
   "cell_type": "markdown",
   "metadata": {},
   "source": [
    "2022 Day 4 Part 2: It seems like there is still quite a bit of duplicate work planned. Instead, the Elves would like to know the number of pairs that overlap at all.\n",
    "\n",
    "In the above example, the first two pairs (2-4,6-8 and 2-3,4-5) don't overlap, while the remaining four pairs (5-7,7-9, 2-8,3-7, 6-6,4-6, and 2-6,4-8) do overlap:\n",
    "\n",
    "5-7,7-9 overlaps in a single section, 7.\n",
    "2-8,3-7 overlaps all of the sections 3 through 7.\n",
    "6-6,4-6 overlaps in a single section, 6.\n",
    "2-6,4-8 overlaps in sections 4, 5, and 6.\n",
    "So, in this example, the number of overlapping assignment pairs is 4.\n",
    "\n",
    "In how many assignment pairs do the ranges overlap?"
   ]
  },
  {
   "cell_type": "code",
   "execution_count": 20,
   "metadata": {},
   "outputs": [
    {
     "name": "stdout",
     "output_type": "stream",
     "text": [
      "919\n"
     ]
    }
   ],
   "source": [
    "def number_of_subsets(LINES):\n",
    "  '''find out each of the 4 integers of the 4 lines. Then find the first set of numbers from integer 1 to integer 4(inclusive), and the second set of number from integer 3 to integer 4 (inclusive)'''\n",
    "  count = 0\n",
    "  for line in LINES:\n",
    "    line = line.strip()\n",
    "    matches = [int(match) for match in re.findall('[0-9]+',line)]\n",
    "    set1 = set(range(matches[0],matches[1]+1))\n",
    "    set2 = set(range(matches[2],matches[3]+1))\n",
    "    #check for intersecting sets and for each intersection of sets, add a 1 to the count counter\n",
    "    if len(set1.intersection(set2))>0:\n",
    "      count+=1\n",
    "  print(count)\n",
    "Lines = read_file(r\"C:/Users/mahar/Downloads/pairs.txt\")\n",
    "number_of_subsets(Lines)\n",
    "  \n",
    "\n",
    "    \n"
   ]
  }
 ],
 "metadata": {
  "kernelspec": {
   "display_name": "Python 3",
   "language": "python",
   "name": "python3"
  },
  "language_info": {
   "codemirror_mode": {
    "name": "ipython",
    "version": 3
   },
   "file_extension": ".py",
   "mimetype": "text/x-python",
   "name": "python",
   "nbconvert_exporter": "python",
   "pygments_lexer": "ipython3",
   "version": "3.12.0"
  }
 },
 "nbformat": 4,
 "nbformat_minor": 2
}
