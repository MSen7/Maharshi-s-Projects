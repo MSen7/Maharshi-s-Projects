{
 "cells": [
  {
   "cell_type": "code",
   "execution_count": 1,
   "metadata": {},
   "outputs": [],
   "source": [
    "import pandas as pd\n",
    "from sklearn.feature_extraction.text import TfidfVectorizer\n",
    "from sklearn.cluster import DBSCAN\n"
   ]
  },
  {
   "cell_type": "code",
   "execution_count": 2,
   "metadata": {},
   "outputs": [],
   "source": [
    "df = pd.read_excel('C:/Users/mahar/OneDrive/Desktop/Fraunhofer/Hydrogen/h2_company_list.xlsx')\n",
    "\n"
   ]
  },
  {
   "cell_type": "code",
   "execution_count": 3,
   "metadata": {},
   "outputs": [],
   "source": [
    "df['clean_name'] = df['name_lower'].str.strip()\n"
   ]
  },
  {
   "cell_type": "code",
   "execution_count": 4,
   "metadata": {},
   "outputs": [
    {
     "data": {
      "text/html": [
       "<div>\n",
       "<style scoped>\n",
       "    .dataframe tbody tr th:only-of-type {\n",
       "        vertical-align: middle;\n",
       "    }\n",
       "\n",
       "    .dataframe tbody tr th {\n",
       "        vertical-align: top;\n",
       "    }\n",
       "\n",
       "    .dataframe thead th {\n",
       "        text-align: right;\n",
       "    }\n",
       "</style>\n",
       "<table border=\"1\" class=\"dataframe\">\n",
       "  <thead>\n",
       "    <tr style=\"text-align: right;\">\n",
       "      <th></th>\n",
       "      <th>mentionCount</th>\n",
       "      <th>org</th>\n",
       "      <th>org_name</th>\n",
       "      <th>name_lower</th>\n",
       "      <th>organizations</th>\n",
       "      <th>Non Relevant/ Counted</th>\n",
       "      <th>clean_name</th>\n",
       "    </tr>\n",
       "  </thead>\n",
       "  <tbody>\n",
       "    <tr>\n",
       "      <th>0</th>\n",
       "      <td>188</td>\n",
       "      <td>http://fraunhofer.de/data/Toyota</td>\n",
       "      <td>Toyota</td>\n",
       "      <td>toyota</td>\n",
       "      <td>['toyota']</td>\n",
       "      <td>x</td>\n",
       "      <td>toyota</td>\n",
       "    </tr>\n",
       "    <tr>\n",
       "      <th>1</th>\n",
       "      <td>127</td>\n",
       "      <td>http://fraunhofer.de/data/Hyundai</td>\n",
       "      <td>Hyundai</td>\n",
       "      <td>hyundai</td>\n",
       "      <td>['hyundai']</td>\n",
       "      <td>NaN</td>\n",
       "      <td>hyundai</td>\n",
       "    </tr>\n",
       "    <tr>\n",
       "      <th>2</th>\n",
       "      <td>101</td>\n",
       "      <td>http://fraunhofer.de/data/renewable_energy</td>\n",
       "      <td>renewable energy</td>\n",
       "      <td>renewable energy</td>\n",
       "      <td>['renewable energy']</td>\n",
       "      <td>x</td>\n",
       "      <td>renewable energy</td>\n",
       "    </tr>\n",
       "    <tr>\n",
       "      <th>3</th>\n",
       "      <td>72</td>\n",
       "      <td>http://fraunhofer.de/data/DOI</td>\n",
       "      <td>DOI</td>\n",
       "      <td>doi</td>\n",
       "      <td>['doi']</td>\n",
       "      <td>x</td>\n",
       "      <td>doi</td>\n",
       "    </tr>\n",
       "    <tr>\n",
       "      <th>4</th>\n",
       "      <td>64</td>\n",
       "      <td>http://fraunhofer.de/data/Reuters</td>\n",
       "      <td>Reuters</td>\n",
       "      <td>reuters</td>\n",
       "      <td>['reuters']</td>\n",
       "      <td>NaN</td>\n",
       "      <td>reuters</td>\n",
       "    </tr>\n",
       "    <tr>\n",
       "      <th>...</th>\n",
       "      <td>...</td>\n",
       "      <td>...</td>\n",
       "      <td>...</td>\n",
       "      <td>...</td>\n",
       "      <td>...</td>\n",
       "      <td>...</td>\n",
       "      <td>...</td>\n",
       "    </tr>\n",
       "    <tr>\n",
       "      <th>995</th>\n",
       "      <td>2</td>\n",
       "      <td>http://fraunhofer.de/data/CAES</td>\n",
       "      <td>CAES</td>\n",
       "      <td>caes</td>\n",
       "      <td>['caes']</td>\n",
       "      <td>NaN</td>\n",
       "      <td>caes</td>\n",
       "    </tr>\n",
       "    <tr>\n",
       "      <th>996</th>\n",
       "      <td>2</td>\n",
       "      <td>http://fraunhofer.de/data/CC</td>\n",
       "      <td>CC</td>\n",
       "      <td>cc</td>\n",
       "      <td>['cc']</td>\n",
       "      <td>NaN</td>\n",
       "      <td>cc</td>\n",
       "    </tr>\n",
       "    <tr>\n",
       "      <th>997</th>\n",
       "      <td>2</td>\n",
       "      <td>http://fraunhofer.de/data/CCC</td>\n",
       "      <td>CCC</td>\n",
       "      <td>ccc</td>\n",
       "      <td>['ccc']</td>\n",
       "      <td>NaN</td>\n",
       "      <td>ccc</td>\n",
       "    </tr>\n",
       "    <tr>\n",
       "      <th>998</th>\n",
       "      <td>2</td>\n",
       "      <td>http://fraunhofer.de/data/CCUS</td>\n",
       "      <td>CCUS</td>\n",
       "      <td>ccus</td>\n",
       "      <td>['ccus']</td>\n",
       "      <td>NaN</td>\n",
       "      <td>ccus</td>\n",
       "    </tr>\n",
       "    <tr>\n",
       "      <th>999</th>\n",
       "      <td>2</td>\n",
       "      <td>http://fraunhofer.de/data/CES</td>\n",
       "      <td>CES</td>\n",
       "      <td>ces</td>\n",
       "      <td>['ces']</td>\n",
       "      <td>NaN</td>\n",
       "      <td>ces</td>\n",
       "    </tr>\n",
       "  </tbody>\n",
       "</table>\n",
       "<p>1000 rows × 7 columns</p>\n",
       "</div>"
      ],
      "text/plain": [
       "     mentionCount                                         org  \\\n",
       "0             188            http://fraunhofer.de/data/Toyota   \n",
       "1             127           http://fraunhofer.de/data/Hyundai   \n",
       "2             101  http://fraunhofer.de/data/renewable_energy   \n",
       "3              72               http://fraunhofer.de/data/DOI   \n",
       "4              64           http://fraunhofer.de/data/Reuters   \n",
       "..            ...                                         ...   \n",
       "995             2              http://fraunhofer.de/data/CAES   \n",
       "996             2                http://fraunhofer.de/data/CC   \n",
       "997             2               http://fraunhofer.de/data/CCC   \n",
       "998             2              http://fraunhofer.de/data/CCUS   \n",
       "999             2               http://fraunhofer.de/data/CES   \n",
       "\n",
       "             org_name        name_lower         organizations  \\\n",
       "0              Toyota            toyota            ['toyota']   \n",
       "1             Hyundai           hyundai           ['hyundai']   \n",
       "2    renewable energy  renewable energy  ['renewable energy']   \n",
       "3                 DOI               doi               ['doi']   \n",
       "4             Reuters           reuters           ['reuters']   \n",
       "..                ...               ...                   ...   \n",
       "995              CAES              caes              ['caes']   \n",
       "996                CC                cc                ['cc']   \n",
       "997               CCC               ccc               ['ccc']   \n",
       "998              CCUS              ccus              ['ccus']   \n",
       "999               CES               ces               ['ces']   \n",
       "\n",
       "    Non Relevant/ Counted        clean_name  \n",
       "0                       x            toyota  \n",
       "1                     NaN           hyundai  \n",
       "2                       x  renewable energy  \n",
       "3                       x               doi  \n",
       "4                     NaN           reuters  \n",
       "..                    ...               ...  \n",
       "995                   NaN              caes  \n",
       "996                   NaN                cc  \n",
       "997                   NaN               ccc  \n",
       "998                   NaN              ccus  \n",
       "999                   NaN               ces  \n",
       "\n",
       "[1000 rows x 7 columns]"
      ]
     },
     "execution_count": 4,
     "metadata": {},
     "output_type": "execute_result"
    }
   ],
   "source": [
    "df_new = df[0:1000]\n",
    "df_new"
   ]
  },
  {
   "cell_type": "code",
   "execution_count": 5,
   "metadata": {},
   "outputs": [],
   "source": [
    "vectorizer = TfidfVectorizer()\n",
    "name_vectors = vectorizer.fit_transform(df_new['clean_name'])"
   ]
  },
  {
   "cell_type": "code",
   "execution_count": 13,
   "metadata": {},
   "outputs": [],
   "source": [
    "dbscan = DBSCAN(eps=0.4, min_samples=2, metric='cosine')\n",
    "labels = dbscan.fit_predict(name_vectors)"
   ]
  },
  {
   "cell_type": "code",
   "execution_count": 14,
   "metadata": {},
   "outputs": [
    {
     "name": "stderr",
     "output_type": "stream",
     "text": [
      "C:\\Users\\mahar\\AppData\\Local\\Temp\\ipykernel_15752\\384193000.py:1: SettingWithCopyWarning: \n",
      "A value is trying to be set on a copy of a slice from a DataFrame.\n",
      "Try using .loc[row_indexer,col_indexer] = value instead\n",
      "\n",
      "See the caveats in the documentation: https://pandas.pydata.org/pandas-docs/stable/user_guide/indexing.html#returning-a-view-versus-a-copy\n",
      "  df_new['cluster_label'] = labels\n"
     ]
    }
   ],
   "source": [
    "df_new['cluster_label'] = labels"
   ]
  },
  {
   "cell_type": "code",
   "execution_count": 15,
   "metadata": {},
   "outputs": [
    {
     "data": {
      "text/plain": [
       "array([  0,   1,   2,   3,   4,  -1,   5,   6,   7,   8,   9,  10,  11,\n",
       "        12,  13,  14,  15,  16,  17,  18,  19,  20,  21,  22,  23,  24,\n",
       "        25,  26,  27,  28,  29,  30,  31,  32,  33,  34,  35,  36,  37,\n",
       "        38,  39,  40,  41,  42,  43,  44,  45,  46,  47,  48,  49,  50,\n",
       "        51,  52,  53,  54,  55,  56,  57,  58,  59,  60,  61,  62,  63,\n",
       "        64,  65,  66,  67,  68,  69,  70,  71,  72,  73,  74,  75,  76,\n",
       "        77,  78,  79,  80,  81,  82,  83,  84,  85,  86,  87,  88,  89,\n",
       "        90,  91,  92,  93,  94,  95,  96,  97,  98,  99, 100, 101, 102,\n",
       "       103, 104, 105, 106, 107, 108, 109, 110, 111, 112, 113, 114, 115,\n",
       "       116, 117, 118, 119, 120, 121, 122, 123, 124, 125, 126, 127, 128,\n",
       "       129, 130, 131, 132, 133, 134, 135, 136, 137, 138, 139, 140, 141,\n",
       "       142, 143, 144, 145, 146, 147, 148, 149, 150, 151, 152, 153],\n",
       "      dtype=int64)"
      ]
     },
     "execution_count": 15,
     "metadata": {},
     "output_type": "execute_result"
    }
   ],
   "source": [
    "df_new['cluster_label'].unique()\n"
   ]
  },
  {
   "cell_type": "code",
   "execution_count": 20,
   "metadata": {},
   "outputs": [
    {
     "data": {
      "text/html": [
       "<div>\n",
       "<style scoped>\n",
       "    .dataframe tbody tr th:only-of-type {\n",
       "        vertical-align: middle;\n",
       "    }\n",
       "\n",
       "    .dataframe tbody tr th {\n",
       "        vertical-align: top;\n",
       "    }\n",
       "\n",
       "    .dataframe thead th {\n",
       "        text-align: right;\n",
       "    }\n",
       "</style>\n",
       "<table border=\"1\" class=\"dataframe\">\n",
       "  <thead>\n",
       "    <tr style=\"text-align: right;\">\n",
       "      <th></th>\n",
       "      <th>mentionCount</th>\n",
       "      <th>org</th>\n",
       "      <th>org_name</th>\n",
       "      <th>name_lower</th>\n",
       "      <th>organizations</th>\n",
       "      <th>Non Relevant/ Counted</th>\n",
       "      <th>clean_name</th>\n",
       "      <th>cluster_label</th>\n",
       "    </tr>\n",
       "  </thead>\n",
       "  <tbody>\n",
       "    <tr>\n",
       "      <th>29</th>\n",
       "      <td>27</td>\n",
       "      <td>http://fraunhofer.de/data/The_Canadian_Press</td>\n",
       "      <td>The Canadian Press</td>\n",
       "      <td>the canadian press</td>\n",
       "      <td>['the canadian press']</td>\n",
       "      <td>x</td>\n",
       "      <td>the canadian press</td>\n",
       "      <td>16</td>\n",
       "    </tr>\n",
       "    <tr>\n",
       "      <th>47</th>\n",
       "      <td>19</td>\n",
       "      <td>http://fraunhofer.de/data/Canadian_Pacific</td>\n",
       "      <td>Canadian Pacific</td>\n",
       "      <td>canadian pacific</td>\n",
       "      <td>['canadian pacific']</td>\n",
       "      <td>NaN</td>\n",
       "      <td>canadian pacific</td>\n",
       "      <td>16</td>\n",
       "    </tr>\n",
       "    <tr>\n",
       "      <th>440</th>\n",
       "      <td>4</td>\n",
       "      <td>http://fraunhofer.de/data/CANADIAN</td>\n",
       "      <td>CANADIAN</td>\n",
       "      <td>canadian</td>\n",
       "      <td>['canadian']</td>\n",
       "      <td>NaN</td>\n",
       "      <td>canadian</td>\n",
       "      <td>16</td>\n",
       "    </tr>\n",
       "  </tbody>\n",
       "</table>\n",
       "</div>"
      ],
      "text/plain": [
       "     mentionCount                                           org  \\\n",
       "29             27  http://fraunhofer.de/data/The_Canadian_Press   \n",
       "47             19    http://fraunhofer.de/data/Canadian_Pacific   \n",
       "440             4            http://fraunhofer.de/data/CANADIAN   \n",
       "\n",
       "               org_name          name_lower           organizations  \\\n",
       "29   The Canadian Press  the canadian press  ['the canadian press']   \n",
       "47     Canadian Pacific    canadian pacific    ['canadian pacific']   \n",
       "440            CANADIAN            canadian            ['canadian']   \n",
       "\n",
       "    Non Relevant/ Counted          clean_name  cluster_label  \n",
       "29                      x  the canadian press             16  \n",
       "47                    NaN    canadian pacific             16  \n",
       "440                   NaN            canadian             16  "
      ]
     },
     "execution_count": 20,
     "metadata": {},
     "output_type": "execute_result"
    }
   ],
   "source": [
    "df_new[df_new['cluster_label']==16]"
   ]
  },
  {
   "cell_type": "code",
   "execution_count": 18,
   "metadata": {},
   "outputs": [
    {
     "name": "stdout",
     "output_type": "stream",
     "text": [
      "-1      517\n",
      " 17      20\n",
      " 23      16\n",
      " 80      15\n",
      " 10      12\n",
      "       ... \n",
      " 75       2\n",
      " 18       2\n",
      " 68       2\n",
      " 67       2\n",
      " 153      2\n",
      "Name: cluster_label, Length: 155, dtype: int64\n"
     ]
    }
   ],
   "source": [
    "cluster_counts = df_new['cluster_label'].value_counts()\n",
    "print(cluster_counts)"
   ]
  }
 ],
 "metadata": {
  "kernelspec": {
   "display_name": "base",
   "language": "python",
   "name": "python3"
  },
  "language_info": {
   "codemirror_mode": {
    "name": "ipython",
    "version": 3
   },
   "file_extension": ".py",
   "mimetype": "text/x-python",
   "name": "python",
   "nbconvert_exporter": "python",
   "pygments_lexer": "ipython3",
   "version": "3.9.16"
  },
  "orig_nbformat": 4
 },
 "nbformat": 4,
 "nbformat_minor": 2
}
